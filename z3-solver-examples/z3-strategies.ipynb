{
 "cells": [
  {
   "cell_type": "markdown",
   "source": [
    "# Strategies"
   ],
   "metadata": {
    "collapsed": false
   }
  },
  {
   "cell_type": "markdown",
   "source": [
    "original guide: [https://ericpony.github.io/z3py-tutorial/strategies-examples.htm](https://ericpony.github.io/z3py-tutorial/strategies-examples.htm)"
   ],
   "metadata": {
    "collapsed": false
   }
  },
  {
   "cell_type": "markdown",
   "source": [
    "High-performance solvers, such as Z3, contain many tightly integrated, handcrafted heuristic combinations of algorithmic proof methods. While these heuristic combinations tend to be highly tuned for known classes of problems, they may easily perform very badly on new classes of problems. This issue is becoming increasingly pressing as solvers begin to gain the attention of practitioners in diverse areas of science and engineering. In many cases, changes to the solver heuristics can make a tremendous difference.\n",
    "\n",
    "In this tutorial we show how to create custom strategies using the basic building blocks available in Z3. Z3Py and Z3 4.0 implement the ideas proposed in this [article](http://research.microsoft.com/en-us/um/people/leonardo/strategy.pdf).\n",
    "\n",
    "Please send feedback, comments and/or corrections to [leonardo@microsoft.com](mailto:leonardo@microsoft.com). Your comments are very valuable."
   ],
   "metadata": {
    "collapsed": false
   }
  },
  {
   "cell_type": "code",
   "execution_count": 1,
   "outputs": [],
   "source": [
    "from z3 import *"
   ],
   "metadata": {
    "collapsed": false
   }
  },
  {
   "cell_type": "markdown",
   "source": [
    "## Introduction\n",
    "\n",
    "Z3 implements a methodology for orchestrating reasoning engines where \"big\" symbolic reasoning steps are represented as functions known as **tactics**, and tactics are composed using combinators known as **tacticals**. Tactics process sets of formulas called **Goals**.\n",
    "\n",
    "When a tactic is applied to some goal `G`, four different outcomes are possible. The tactic succeeds in showing `G` to be satisfiable (i.e., feasible); succeeds in showing `G` to be unsatisfiable (i.e., infeasible); produces a sequence of subgoals; or fails. When reducing a goal `G` to a sequence of subgoals `G1`, ..., `Gn`, we face the problem of model conversion. A model converter construct a model for `G` using a model for some subgoal `Gi`.\n",
    "\n",
    "In the following example, we create a goal `g` consisting of three formulas, and a tactic `t` composed of two built-in tactics: `simplify` and `solve-eqs`. The tactic `simplify` apply transformations equivalent to the ones found in the command `simplify`. The tactic `solver-eqs` eliminate variables using Gaussian elimination. Actually, `solve-eqs` is not restricted only to linear arithmetic. It can also eliminate arbitrary variables. Then, combinator `Then` applies `simplify` to the input goal and `solve-eqs` to each subgoal produced by `simplify`. In this example, only one subgoal is produced."
   ],
   "metadata": {
    "collapsed": false
   }
  },
  {
   "cell_type": "code",
   "execution_count": 2,
   "outputs": [
    {
     "name": "stdout",
     "output_type": "stream",
     "text": [
      "[x > 0, y > 0, x == y + 2]\n",
      "[[Not(x <= 0), Not(x <= 2)]]\n"
     ]
    }
   ],
   "source": [
    "x, y = Reals('x y')\n",
    "g = Goal()\n",
    "g.add(x > 0, y > 0, x == y + 2)\n",
    "print(g)\n",
    "\n",
    "t1 = Tactic('simplify')\n",
    "t2 = Tactic('solve-eqs')\n",
    "t = Then(t1, t2)\n",
    "print(t(g))"
   ],
   "metadata": {
    "collapsed": false
   }
  },
  {
   "cell_type": "markdown",
   "source": [
    "In the example above, variable `x` is eliminated, and is not present the resultant goal.\n",
    "\n",
    "In Z3, we say a clause is any constraint of the form `Or(f_1, ..., f_n)`. The tactic split-clause will select a clause `Or(f_1, ..., f_n)` in the input goal, and split it `n` subgoals. One for each subformula `f_i`."
   ],
   "metadata": {
    "collapsed": false
   }
  },
  {
   "cell_type": "code",
   "execution_count": 3,
   "outputs": [
    {
     "name": "stdout",
     "output_type": "stream",
     "text": [
      "[x < 0, x == y + 1, y < 0]\n",
      "[x > 0, x == y + 1, y < 0]\n"
     ]
    }
   ],
   "source": [
    "x, y = Reals('x y')\n",
    "g = Goal()\n",
    "g.add(Or(x < 0, x > 0), x == y + 1, y < 0)\n",
    "\n",
    "t = Tactic('split-clause')\n",
    "r = t(g)\n",
    "for g in r:\n",
    "    print(g)"
   ],
   "metadata": {
    "collapsed": false
   }
  },
  {
   "cell_type": "markdown",
   "source": [
    "## Tactics\n",
    "Z3 comes equipped with many built-in tactics. The command `describe_tactics()` provides a short description of all built-in tactics.\n",
    "\n",
    "> `describe_tactics()`\n",
    "\n",
    "Z3Py comes equipped with the following tactic combinators (aka tacticals):\n",
    "\n",
    "* `Then(t, s)` applies `t` to the input goal and `s` to every subgoal produced by `t`.\n",
    "* `OrElse(t, s)` first applies `t` to the given goal, if it fails then returns the result of `s` applied to the given goal.\n",
    "* `Repeat(t)` Keep applying the given tactic until no subgoal is modified by it.\n",
    "* `Repeat(t, n)` Keep applying the given tactic until no subgoal is modified by it, or the number of iterations is greater than `n`.\n",
    "* `TryFor(t, ms)` Apply tactic `t` to the input goal, if it does not return in `ms` millisenconds, it fails.\n",
    "* `With(t, params)` Apply the given tactic using the given parameters.\n",
    "\n",
    "The following example demonstrate how to use these combinators."
   ],
   "metadata": {
    "collapsed": false
   }
  },
  {
   "cell_type": "code",
   "execution_count": 4,
   "outputs": [
    {
     "name": "stdout",
     "output_type": "stream",
     "text": [
      "[[x == 0, y == 0, z == 0, x + y + z > 2],\n",
      " [x == 0, y == 0, z == 1, x + y + z > 2],\n",
      " [x == 0, y == 1, z == 0, x + y + z > 2],\n",
      " [x == 0, y == 1, z == 1, x + y + z > 2],\n",
      " [x == 1, y == 0, z == 0, x + y + z > 2],\n",
      " [x == 1, y == 0, z == 1, x + y + z > 2],\n",
      " [x == 1, y == 1, z == 0, x + y + z > 2],\n",
      " [x == 1, y == 1, z == 1, x + y + z > 2]]\n",
      "[[x == 0, y == 0, Or(z == 0, z == 1), x + y + z > 2],\n",
      " [x == 0, y == 1, Or(z == 0, z == 1), x + y + z > 2],\n",
      " [x == 1, y == 0, Or(z == 0, z == 1), x + y + z > 2],\n",
      " [x == 1, y == 1, Or(z == 0, z == 1), x + y + z > 2]]\n",
      "[[]]\n"
     ]
    }
   ],
   "source": [
    "x, y, z = Reals('x y z')\n",
    "g = Goal()\n",
    "g.add(Or(x == 0, x == 1),\n",
    "      Or(y == 0, y == 1),\n",
    "      Or(z == 0, z == 1),\n",
    "      x + y + z > 2)\n",
    "\n",
    "# Split all clauses\"\n",
    "split_all = Repeat(OrElse(Tactic('split-clause'),\n",
    "                          Tactic('skip')))\n",
    "print(split_all(g))\n",
    "\n",
    "split_at_most_2 = Repeat(OrElse(Tactic('split-clause'),\n",
    "                                Tactic('skip')),\n",
    "                         1)\n",
    "print(split_at_most_2(g))\n",
    "\n",
    "# Split all clauses and solve equations\n",
    "split_solve = Then(Repeat(OrElse(Tactic('split-clause'),\n",
    "                                 Tactic('skip'))),\n",
    "                   Tactic('solve-eqs'))\n",
    "\n",
    "print(split_solve(g))"
   ],
   "metadata": {
    "collapsed": false
   }
  },
  {
   "cell_type": "markdown",
   "source": [
    "In the tactic `split_solver`, the tactic `solve-eqs` discharges all but one goal. Note that, this tactic generates one goal: the empty goal which is trivially satisfiable (i.e., feasible)\n",
    "\n",
    "The list of subgoals can be easily traversed using the Python `for` statement."
   ],
   "metadata": {
    "collapsed": false
   }
  },
  {
   "cell_type": "code",
   "execution_count": 5,
   "outputs": [
    {
     "name": "stdout",
     "output_type": "stream",
     "text": [
      "[x == 0, y == 0, z == 0, x + y + z > 2]\n",
      "[x == 0, y == 0, z == 1, x + y + z > 2]\n",
      "[x == 0, y == 1, z == 0, x + y + z > 2]\n",
      "[x == 0, y == 1, z == 1, x + y + z > 2]\n",
      "[x == 1, y == 0, z == 0, x + y + z > 2]\n",
      "[x == 1, y == 0, z == 1, x + y + z > 2]\n",
      "[x == 1, y == 1, z == 0, x + y + z > 2]\n",
      "[x == 1, y == 1, z == 1, x + y + z > 2]\n"
     ]
    }
   ],
   "source": [
    "x, y, z = Reals('x y z')\n",
    "g = Goal()\n",
    "g.add(Or(x == 0, x == 1),\n",
    "      Or(y == 0, y == 1),\n",
    "      Or(z == 0, z == 1),\n",
    "      x + y + z > 2)\n",
    "\n",
    "# Split all clauses\"\n",
    "split_all = Repeat(OrElse(Tactic('split-clause'),\n",
    "                          Tactic('skip')))\n",
    "for s in split_all(g):\n",
    "    print(s)"
   ],
   "metadata": {
    "collapsed": false
   }
  },
  {
   "cell_type": "markdown",
   "source": [
    "A tactic can be converted into a solver object using the method `solver()`. If the tactic produces the empty goal, then the associated solver returns `sat`. If the tactic produces a single goal containing `False`, then the solver returns `unsat`. Otherwise, it returns `unknown`."
   ],
   "metadata": {
    "collapsed": false
   }
  },
  {
   "cell_type": "code",
   "execution_count": 6,
   "outputs": [
    {
     "name": "stdout",
     "output_type": "stream",
     "text": [
      "[y = 0, x = 13]\n"
     ]
    }
   ],
   "source": [
    "bv_solver = Then('simplify',\n",
    "                 'solve-eqs',\n",
    "                 'bit-blast',\n",
    "                 'sat').solver()\n",
    "\n",
    "x, y = BitVecs('x y', 16)\n",
    "solve_using(bv_solver, x | y == 13, x > y)"
   ],
   "metadata": {
    "collapsed": false
   }
  },
  {
   "cell_type": "markdown",
   "source": [
    "In the example above, the tactic `bv_solver` implements a basic bit-vector solver using equation solving, bit-blasting, and a propositional SAT solver. Note that, the command `Tactic` is suppressed. All Z3Py combinators automatically invoke `Tactic` command if the argument is a string. Finally, the command `solve_using` is a variant of the solve command where the first argument specifies the solver to be used.\n",
    "\n",
    "In the following example, we use the solver API directly instead of the command `solve_using`. We use the combinator With to configure our little solver. We also include the tactic `aig` which tries to compress Boolean formulas using And-Inverted Graphs."
   ],
   "metadata": {
    "collapsed": false
   }
  },
  {
   "cell_type": "code",
   "execution_count": 7,
   "outputs": [
    {
     "name": "stdout",
     "output_type": "stream",
     "text": [
      "sat\n",
      "[y = 2061, x = 1984]\n",
      "x*32 + y == 13\n",
      "x & y == 0\n"
     ]
    }
   ],
   "source": [
    "bv_solver = Then(With('simplify', mul2concat=True),\n",
    "                 'solve-eqs',\n",
    "                 'bit-blast',\n",
    "                 'aig',\n",
    "                 'sat').solver()\n",
    "x, y = BitVecs('x y', 16)\n",
    "bv_solver.add(x * 32 + y == 13, x & y < 10, y > -100)\n",
    "print(bv_solver.check())\n",
    "m = bv_solver.model()\n",
    "print(m)\n",
    "print(x * 32 + y, \"==\", m.evaluate(x * 32 + y))\n",
    "print(x & y, \"==\", m.evaluate(x & y))"
   ],
   "metadata": {
    "collapsed": false
   }
  },
  {
   "cell_type": "markdown",
   "source": [
    "The tactic `smt` wraps the main solver in Z3 as a tactic."
   ],
   "metadata": {
    "collapsed": false
   }
  },
  {
   "cell_type": "code",
   "execution_count": 8,
   "outputs": [
    {
     "name": "stdout",
     "output_type": "stream",
     "text": [
      "sat\n",
      "[x = 0, y = -2]\n"
     ]
    }
   ],
   "source": [
    "x, y = Ints('x y')\n",
    "s = Tactic('smt').solver()\n",
    "s.add(x > y + 1)\n",
    "print(s.check())\n",
    "print(s.model())"
   ],
   "metadata": {
    "collapsed": false
   }
  },
  {
   "cell_type": "markdown",
   "source": [
    "Now, we show how to implement a solver for integer arithmetic using SAT. The solver is complete only for problems where every variable has a lower and upper bound."
   ],
   "metadata": {
    "collapsed": false
   }
  },
  {
   "cell_type": "code",
   "execution_count": 9,
   "outputs": [
    {
     "name": "stdout",
     "output_type": "stream",
     "text": [
      "[x = 3, z = 9, y = 1]\n",
      "failed to solve\n"
     ]
    }
   ],
   "source": [
    "s = Then(With('simplify', arith_lhs=True, som=True),\n",
    "         'normalize-bounds', 'lia2pb', 'pb2bv',\n",
    "         'bit-blast', 'sat').solver()\n",
    "x, y, z = Ints('x y z')\n",
    "solve_using(s,\n",
    "            x > 0, x < 10,\n",
    "            y > 0, y < 10,\n",
    "            z > 0, z < 10,\n",
    "            3 * y + 2 * x == z)\n",
    "# It fails on the next example (it is unbounded)\n",
    "s.reset()\n",
    "solve_using(s, 3 * y + 2 * x == z)"
   ],
   "metadata": {
    "collapsed": false
   }
  },
  {
   "cell_type": "markdown",
   "source": [
    "Tactics can be combined with solvers. For example, we can apply a tactic to a goal, produced a set of subgoals, then select one of the subgoals and solve it using a solver. The next example demonstrates how to do that, and how to use model converters to convert a model for a subgoal into a model for the original goal."
   ],
   "metadata": {
    "collapsed": false
   }
  },
  {
   "cell_type": "code",
   "execution_count": 10,
   "outputs": [
    {
     "name": "stdout",
     "output_type": "stream",
     "text": [
      "[[Not(y <= 13), Not(z <= y)]]\n",
      "sat\n",
      "[y = 14, z = 15]\n",
      "[z = 15, y = 14, x = 11]\n"
     ]
    }
   ],
   "source": [
    "t = Then('simplify',\n",
    "         'normalize-bounds',\n",
    "         'solve-eqs')\n",
    "\n",
    "x, y, z = Ints('x y z')\n",
    "g = Goal()\n",
    "g.add(x > 10, y == x + 3, z > y)\n",
    "\n",
    "r = t(g)\n",
    "# r contains only one subgoal\n",
    "print(r)\n",
    "\n",
    "s = Solver()\n",
    "s.add(r[0])\n",
    "print(s.check())\n",
    "# Model for the subgoal\n",
    "print(s.model())\n",
    "# Model for the original goal\n",
    "\n",
    "# av: fix\n",
    "# print(r.convert_model(s.model()))\n",
    "print(r[0].convert_model(s.model()))"
   ],
   "metadata": {
    "collapsed": false
   }
  },
  {
   "cell_type": "markdown",
   "source": [
    "## Probes\n",
    "\n",
    "**Probes** (aka formula measures) are evaluated over goals. Boolean expressions over them can be built using relational operators and Boolean connectives. The tactic `FailIf(cond)` fails if the given goal does not satisfy the condition `cond`. Many numeric and Boolean measures are available in Z3Py. The command `describe_probes()` provides the list of all built-in probes.\n",
    "\n",
    "> `describe_probes()`\n",
    "\n",
    "In the following example, we build a simple tactic using `FailIf`. It also shows that a probe can be applied directly to a goal."
   ],
   "metadata": {
    "collapsed": false
   }
  },
  {
   "cell_type": "code",
   "execution_count": 11,
   "outputs": [
    {
     "name": "stdout",
     "output_type": "stream",
     "text": [
      "num-consts: 3.0\n",
      "tactic failed\n",
      "trying again...\n",
      "[[x + y > 0]]\n"
     ]
    }
   ],
   "source": [
    "x, y, z = Reals('x y z')\n",
    "g = Goal()\n",
    "g.add(x + y + z > 0)\n",
    "\n",
    "p = Probe('num-consts')\n",
    "print(\"num-consts:\", p(g))\n",
    "\n",
    "t = FailIf(p > 2)\n",
    "try:\n",
    "    t(g)\n",
    "except Z3Exception:\n",
    "    print(\"tactic failed\")\n",
    "\n",
    "print(\"trying again...\")\n",
    "g = Goal()\n",
    "g.add(x + y > 0)\n",
    "print(t(g))"
   ],
   "metadata": {
    "collapsed": false
   }
  },
  {
   "cell_type": "markdown",
   "source": [
    "Z3Py also provides the combinator (tactical) `If(p, t1, t2)` which is a shorthand for:\n",
    "\n",
    "> `OrElse(Then(FailIf(Not(p)), t1), t2)`\n",
    "\n",
    "The combinator `When(p, t)` is a shorthand for:\n",
    "\n",
    "> `If(p, t, 'skip')`\n",
    "\n",
    "The tactic `skip` just returns the input goal. The following example demonstrates how to use the `If` combinator."
   ],
   "metadata": {
    "collapsed": false
   }
  },
  {
   "cell_type": "code",
   "execution_count": 12,
   "outputs": [
    {
     "name": "stdout",
     "output_type": "stream",
     "text": [
      "[[(y + -1*x)*(y + x) <= 0]]\n",
      "[[2*x + y + z >= 0, x**2 + -1*y**2 >= 0]]\n"
     ]
    }
   ],
   "source": [
    "x, y, z = Reals('x y z')\n",
    "g = Goal()\n",
    "g.add(x ** 2 - y ** 2 >= 0)\n",
    "\n",
    "p = Probe('num-consts')\n",
    "t = If(p > 2, 'simplify', 'factor')\n",
    "\n",
    "print(t(g))\n",
    "\n",
    "g = Goal()\n",
    "g.add(x + x + y + z >= 0, x ** 2 - y ** 2 >= 0)\n",
    "\n",
    "print(t(g))"
   ],
   "metadata": {
    "collapsed": false
   }
  },
  {
   "cell_type": "code",
   "execution_count": 12,
   "outputs": [],
   "source": [],
   "metadata": {
    "collapsed": false
   }
  }
 ],
 "metadata": {
  "kernelspec": {
   "display_name": "Python 3",
   "language": "python",
   "name": "python3"
  },
  "language_info": {
   "codemirror_mode": {
    "name": "ipython",
    "version": 2
   },
   "file_extension": ".py",
   "mimetype": "text/x-python",
   "name": "python",
   "nbconvert_exporter": "python",
   "pygments_lexer": "ipython2",
   "version": "2.7.6"
  }
 },
 "nbformat": 4,
 "nbformat_minor": 0
}
